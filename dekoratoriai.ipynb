{
 "cells": [
  {
   "cell_type": "code",
   "execution_count": null,
   "metadata": {},
   "outputs": [],
   "source": []
  }
 ],
 "metadata": {
  "kernelspec": {
   "display_name": "Python 3.9.12 ('base')",
   "language": "python",
   "name": "python3"
  },
  "language_info": {
   "name": "python",
   "version": "3.9.12"
  },
  "orig_nbformat": 4,
  "vscode": {
   "interpreter": {
    "hash": "26dfcfe99707a1a916841590f2cccf1d794284f7a8e2d6b62613a92ec64bb0e7"
   }
  }
 },
 "nbformat": 4,
 "nbformat_minor": 2
}
