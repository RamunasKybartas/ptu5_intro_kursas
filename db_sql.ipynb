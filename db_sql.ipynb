{
 "cells": [
  {
   "cell_type": "code",
   "execution_count": 30,
   "metadata": {},
   "outputs": [],
   "source": [
    "import sqlite3\n",
    "from pprint import pprint"
   ]
  },
  {
   "cell_type": "code",
   "execution_count": 6,
   "metadata": {},
   "outputs": [],
   "source": [
    "# susijungimas su duomenu baze\n",
    "\n",
    "connector = sqlite3.connect('SQL/cars.db')\n",
    "cursor = connector.cursor()\n",
    "# duomenu iterpimas\n",
    "query = '''\n",
    "CREATE TABLE IF NOT EXISTS new_cars (\n",
    "    make VARCHAR(30),\n",
    "    model VARCHAR(30),\n",
    "    color VARCHAR(30),\n",
    "    year INTEGER,\n",
    "    price INTEGER\n",
    ");\n",
    "'''\n",
    "cursor.execute(query)\n",
    "connector.commit()\n",
    "connector.close()"
   ]
  },
  {
   "cell_type": "code",
   "execution_count": 24,
   "metadata": {},
   "outputs": [],
   "source": [
    "query = '''\n",
    "INSERT INTO new_cars \n",
    "(make, model, color, year, price)\n",
    "VALUES\n",
    "(\"Mercedes\", \"CLS\", \"Black\",\"2020\", \"35000\")\n",
    "'''\n",
    "# context manageris atidaro DB, atlieka reikiamus commit ir uzdaro\n",
    "with connector:\n",
    "    connector.cursor().execute(query)"
   ]
  },
  {
   "cell_type": "code",
   "execution_count": 14,
   "metadata": {},
   "outputs": [
    {
     "name": "stdout",
     "output_type": "stream",
     "text": [
      "('BMW', '520', 'red', 2010, 15000)\n"
     ]
    }
   ],
   "source": [
    "# skaitom duomenu baze (po viena)\n",
    "with connector:\n",
    "    # kursoriu reikia pasiimti i kintamaji, nes jame nugula rezultato generatorius\n",
    "    cursor = connector.cursor()\n",
    "    cursor.execute(\"SELECT * FROM new_cars;\")\n",
    "    print(cursor.fetchone())"
   ]
  },
  {
   "cell_type": "code",
   "execution_count": 20,
   "metadata": {},
   "outputs": [
    {
     "name": "stdout",
     "output_type": "stream",
     "text": [
      "[('BMW', '520', 'red', 2010, 15000), ('BMW', '520', 'red', 2010, 15000)]\n"
     ]
    }
   ],
   "source": [
    "# nuskaitom visus duomenis i sarasa su fetchall()\n",
    "with connector:\n",
    "    cursor = connector.cursor()\n",
    "    cursor.execute(\"SELECT * FROM new_cars;\")\n",
    "    print(cursor.fetchall())"
   ]
  },
  {
   "cell_type": "code",
   "execution_count": 36,
   "metadata": {},
   "outputs": [
    {
     "name": "stdout",
     "output_type": "stream",
     "text": [
      "[('BMW', '520', 'red', 2010, 15000)]\n"
     ]
    }
   ],
   "source": [
    "# taisom situacija:\n",
    "with connector:\n",
    "    cursor = connector.cursor()\n",
    "    cursor.execute(\"DELETE FROM new_cars WHERE rowid>1\")\n",
    "    cursor.execute(\"SELECT * FROM new_cars;\")\n",
    "    pprint(cursor.fetchall())"
   ]
  },
  {
   "cell_type": "code",
   "execution_count": 37,
   "metadata": {},
   "outputs": [
    {
     "name": "stdout",
     "output_type": "stream",
     "text": [
      "[('BMW', '520', 'red', 2010, 15000)]\n"
     ]
    }
   ],
   "source": [
    "from pprint import pprint\n",
    "with connector:\n",
    "    cursor = connector.cursor()\n",
    "    cursor.execute(\"SELECT * FROM new_cars;\")\n",
    "    pprint(cursor.fetchall())"
   ]
  },
  {
   "cell_type": "code",
   "execution_count": 38,
   "metadata": {},
   "outputs": [
    {
     "name": "stdout",
     "output_type": "stream",
     "text": [
      "[('BMW', '520', 'red', 2010, 15000)]\n"
     ]
    }
   ],
   "source": [
    "with connector:\n",
    "    cursor = connector.cursor()\n",
    "    cursor.execute(\"UPDATE new_cars SET price=40000 WHERE make='Mercedes' \")\n",
    "    cursor.execute(\"SELECT * FROM new_cars;\")\n",
    "    pprint(cursor.fetchall())"
   ]
  },
  {
   "cell_type": "code",
   "execution_count": 41,
   "metadata": {},
   "outputs": [],
   "source": [
    "#pridedam iskart daug values\n",
    "\n",
    "naujos_auto = [ \n",
    "    (\"BMW\", \"Z5\", \"Red\", \"2015\", 4100),\n",
    "    (\"Ford\", \"Galaxy\", \"Blue\", \"2021\", 30000)\n",
    "]\n",
    "\n",
    "with connector:\n",
    "    cursor = connector.cursor()\n",
    "    cursor.executemany('INSERT INTO new_cars VALUES (?, ?, ?, ?, ?)', (naujos_auto))"
   ]
  },
  {
   "cell_type": "code",
   "execution_count": null,
   "metadata": {},
   "outputs": [],
   "source": [
    "with connector:\n",
    "    cursor = connector.cursor()\n",
    "    cursor.execute('SELECT rowid, * FROM cars WHERE rowid BETWEEN 5 AND 15')\n",
    "    cars = cursor.fetchall()\n",
    "    for car in cars:\n",
    "        print(f'- {car}')"
   ]
  },
  {
   "cell_type": "code",
   "execution_count": 44,
   "metadata": {},
   "outputs": [
    {
     "name": "stdout",
     "output_type": "stream",
     "text": [
      "- (1, 'Saturn', 'VUE', 'Yellow', 2004, 22408)\n",
      "- (3, 'Hyundai', 'XG350', 'Violet', 2004, 26829)\n",
      "- (5, 'Ford', 'F250', 'Crimson', 1998, 1638)\n",
      "- (7, 'Jeep', 'Patriot', 'Violet', 2012, 40333)\n",
      "- (9, 'BMW', 'X6', 'Maroon', 2010, 95169)\n"
     ]
    }
   ],
   "source": [
    "ids = (1,3,5,7,9)\n",
    "\n",
    "with connector:\n",
    "    cursor = connector.cursor()\n",
    "    cursor.execute('SELECT rowid, * FROM cars WHERE rowid IN (?,?,?,?,?)', ids)\n",
    "    cars = cursor.fetchall()\n",
    "    for car in cars:\n",
    "        print(f'- {car}')"
   ]
  }
 ],
 "metadata": {
  "kernelspec": {
   "display_name": "Python 3.10.6 ('venv': venv)",
   "language": "python",
   "name": "python3"
  },
  "language_info": {
   "codemirror_mode": {
    "name": "ipython",
    "version": 3
   },
   "file_extension": ".py",
   "mimetype": "text/x-python",
   "name": "python",
   "nbconvert_exporter": "python",
   "pygments_lexer": "ipython3",
   "version": "3.10.6"
  },
  "orig_nbformat": 4,
  "vscode": {
   "interpreter": {
    "hash": "4a1510cba31268b21634179ae81759fbc3c3913c46f7c4983d733c42b88bcdb6"
   }
  }
 },
 "nbformat": 4,
 "nbformat_minor": 2
}
