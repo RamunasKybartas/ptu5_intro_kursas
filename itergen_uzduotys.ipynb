{
 "cells": [
  {
   "cell_type": "code",
   "execution_count": 54,
   "metadata": {},
   "outputs": [],
   "source": [
    "#Parašykite generatorių, kuris kaskartą inicijuotas su funkcija next \n",
    "# grąžintų sekantį porinį skaičių. Pirmas sk. 2, toliau 4 ir taip be pabaigos.\n",
    "\n",
    "def poriniai():\n",
    "    skaicius = 2\n",
    "    while True:\n",
    "        yield skaicius\n",
    "        skaicius += 2\n",
    "\n",
    "\n",
    "skaiciuojam = poriniai()\n",
    "\n",
    "\n",
    "\n",
    "\n"
   ]
  },
  {
   "cell_type": "code",
   "execution_count": 57,
   "metadata": {},
   "outputs": [
    {
     "name": "stdout",
     "output_type": "stream",
     "text": [
      "6\n"
     ]
    }
   ],
   "source": [
    "print(next(skaiciuojam))"
   ]
  },
  {
   "cell_type": "code",
   "execution_count": 85,
   "metadata": {},
   "outputs": [],
   "source": [
    "# Parašykite generatorų , kuris kas kartą generuotų po vieną Fibonačio sekos skaičių. \n",
    "# (Seka prasideda šiais skaičiais: 0, 1, 1, 2, 3, 5, 8, 13, 21, 34, 55, 89, 144, 233. \n",
    "# Kiekvienas šios sekos skaičius lygus dviejų prieš jį einančių skaičių sumai, daugiau google:)\n",
    "\n",
    "def fibonachi():\n",
    "    a = 0\n",
    "    b = 1\n",
    "    while True:\n",
    "        c = a + b\n",
    "        a = b\n",
    "        b = c\n",
    "        yield c\n",
    "\n",
    "fibis = fibonachi()"
   ]
  },
  {
   "cell_type": "code",
   "execution_count": null,
   "metadata": {},
   "outputs": [],
   "source": [
    "def fibonacci():\n",
    "    a, b = 0, 1\n",
    "    while True:\n",
    "        yield a\n",
    "        a, b = b, a + b"
   ]
  },
  {
   "cell_type": "code",
   "execution_count": null,
   "metadata": {},
   "outputs": [],
   "source": []
  },
  {
   "cell_type": "code",
   "execution_count": 84,
   "metadata": {},
   "outputs": [
    {
     "name": "stdout",
     "output_type": "stream",
     "text": [
      "8\n"
     ]
    }
   ],
   "source": [
    "print(next(fibis))"
   ]
  }
 ],
 "metadata": {
  "kernelspec": {
   "display_name": "Python 3.10.6 ('venv': venv)",
   "language": "python",
   "name": "python3"
  },
  "language_info": {
   "codemirror_mode": {
    "name": "ipython",
    "version": 3
   },
   "file_extension": ".py",
   "mimetype": "text/x-python",
   "name": "python",
   "nbconvert_exporter": "python",
   "pygments_lexer": "ipython3",
   "version": "3.10.6"
  },
  "orig_nbformat": 4,
  "vscode": {
   "interpreter": {
    "hash": "4a1510cba31268b21634179ae81759fbc3c3913c46f7c4983d733c42b88bcdb6"
   }
  }
 },
 "nbformat": 4,
 "nbformat_minor": 2
}
