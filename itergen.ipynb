{
 "cells": [
  {
   "cell_type": "markdown",
   "metadata": {},
   "source": [
    "# iteratoriai"
   ]
  },
  {
   "cell_type": "code",
   "execution_count": 1,
   "metadata": {},
   "outputs": [
    {
     "name": "stdout",
     "output_type": "stream",
     "text": [
      "<class 'str_iterator'>\n"
     ]
    }
   ],
   "source": [
    "iteratorius = iter(\"Labas rytas\")\n",
    "print(type(iteratorius))"
   ]
  },
  {
   "cell_type": "code",
   "execution_count": 3,
   "metadata": {},
   "outputs": [
    {
     "name": "stdout",
     "output_type": "stream",
     "text": [
      "a\n"
     ]
    }
   ],
   "source": [
    "print(next(iteratorius))"
   ]
  },
  {
   "cell_type": "code",
   "execution_count": 4,
   "metadata": {},
   "outputs": [
    {
     "name": "stdout",
     "output_type": "stream",
     "text": [
      "5\n",
      "8\n",
      "9\n",
      "3\n"
     ]
    }
   ],
   "source": [
    "skaiciai = [5, 8, 9, 3]\n",
    "iterskai = iter(skaiciai)\n",
    "\n",
    "while True:\n",
    "    try:\n",
    "        print(next(iterskai))\n",
    "    except StopIteration:\n",
    "        break"
   ]
  },
  {
   "cell_type": "code",
   "execution_count": null,
   "metadata": {},
   "outputs": [],
   "source": [
    "# matuojam sunaudota atminti\n",
    "import os, psutil\n",
    "process = psutil.Process(os.getpid())\n",
    "print(process.memory_info().rss)\n",
    "print(process.memory_info())"
   ]
  },
  {
   "cell_type": "code",
   "execution_count": 7,
   "metadata": {},
   "outputs": [],
   "source": [
    "def iteruoklis(objektas, funkcija):\n",
    "    iteratorius = iter(objektas)\n",
    "    while True:\n",
    "        try:\n",
    "            result = next(iteratorius)\n",
    "        except StopIteration:\n",
    "            break \n",
    "        else:\n",
    "            funkcija(result)  \n"
   ]
  },
  {
   "cell_type": "code",
   "execution_count": 8,
   "metadata": {},
   "outputs": [
    {
     "name": "stdout",
     "output_type": "stream",
     "text": [
      "Jurgis\n",
      "Lukas\n",
      "Mantas\n"
     ]
    }
   ],
   "source": [
    "broliai = [\"Jurgis\", \"Lukas\", \"Mantas\"]\n",
    "iteruoklis(broliai, print)"
   ]
  },
  {
   "cell_type": "code",
   "execution_count": 15,
   "metadata": {},
   "outputs": [
    {
     "name": "stdout",
     "output_type": "stream",
     "text": [
      "3.3166247903554\n",
      "3.4641016151377544\n",
      "3.605551275463989\n",
      "2.23606797749979\n",
      "3.872983346207417\n",
      "3.1622776601683795\n"
     ]
    }
   ],
   "source": [
    "from math import sqrt\n",
    "def print_sqrt(skaicius):\n",
    "    print(sqrt(abs(skaicius)))\n",
    "\n",
    "skaiciai = [11, 12, 13,-5, 15, 10]\n",
    "iteruoklis (skaiciai, print_sqrt)"
   ]
  },
  {
   "cell_type": "code",
   "execution_count": 21,
   "metadata": {},
   "outputs": [
    {
     "name": "stdout",
     "output_type": "stream",
     "text": [
      "('senas', 99)\n",
      "('jaunas', 18)\n",
      "99\n",
      "18\n"
     ]
    }
   ],
   "source": [
    "dictas = {\"senas\": 99, \"jaunas\": 18}\n",
    "iteruoklis(dictas.items(), print)\n",
    "iteruoklis(dictas.values(), print)"
   ]
  },
  {
   "cell_type": "markdown",
   "metadata": {},
   "source": [
    "# generatoriai"
   ]
  },
  {
   "cell_type": "code",
   "execution_count": 34,
   "metadata": {},
   "outputs": [],
   "source": [
    "def skaiciuojam(iki):\n",
    "    count = 1\n",
    "    while count <= iki:\n",
    "        yield count\n",
    "        count += 1"
   ]
  },
  {
   "cell_type": "code",
   "execution_count": 35,
   "metadata": {},
   "outputs": [],
   "source": [
    "counter = skaiciuojam(5)\n"
   ]
  },
  {
   "cell_type": "code",
   "execution_count": 47,
   "metadata": {},
   "outputs": [
    {
     "name": "stdout",
     "output_type": "stream",
     "text": [
      "3\n"
     ]
    }
   ],
   "source": [
    "print(next(counter))"
   ]
  },
  {
   "cell_type": "code",
   "execution_count": null,
   "metadata": {},
   "outputs": [],
   "source": [
    "iteruoklis(skaiciuojam(7), print)"
   ]
  },
  {
   "cell_type": "code",
   "execution_count": 49,
   "metadata": {},
   "outputs": [
    {
     "name": "stdout",
     "output_type": "stream",
     "text": [
      "<generator object skaiciuojam at 0x00000187002A8BA0>\n",
      "[1, 2, 3, 4, 5, 6, 7, 8, 9, 10, 11]\n"
     ]
    }
   ],
   "source": [
    "skaiciai = skaiciuojam(11)\n",
    "print(skaiciai)\n",
    "print(list(skaiciai))"
   ]
  },
  {
   "cell_type": "code",
   "execution_count": 40,
   "metadata": {},
   "outputs": [
    {
     "name": "stdout",
     "output_type": "stream",
     "text": [
      "1\n",
      "2\n",
      "3\n"
     ]
    }
   ],
   "source": [
    "skaiciai = list(skaiciuojam(3))\n",
    "for skaicius in skaiciai:\n",
    "    print(skaicius)"
   ]
  },
  {
   "cell_type": "code",
   "execution_count": null,
   "metadata": {},
   "outputs": [],
   "source": [
    "skaiciai = skaiciuojam(10)\n",
    "print(next(skaiciai))\n",
    "print(next(skaiciai))\n",
    "print(next(skaiciai))\n",
    "print(list(skaiciai))"
   ]
  },
  {
   "cell_type": "code",
   "execution_count": null,
   "metadata": {},
   "outputs": [],
   "source": [
    "gen = (x ** 2 for x in range(10))\n",
    "print(list(gen))\n",
    "gen = (x ** 2 for x in range(10))\n",
    "iteruoklis(gen, print)\n",
    "gen = (x ** 2 for x in range(10))\n",
    "iteruoklis(gen, print_sqrt)"
   ]
  }
 ],
 "metadata": {
  "kernelspec": {
   "display_name": "Python 3.10.6 ('venv': venv)",
   "language": "python",
   "name": "python3"
  },
  "language_info": {
   "codemirror_mode": {
    "name": "ipython",
    "version": 3
   },
   "file_extension": ".py",
   "mimetype": "text/x-python",
   "name": "python",
   "nbconvert_exporter": "python",
   "pygments_lexer": "ipython3",
   "version": "3.10.6"
  },
  "orig_nbformat": 4,
  "vscode": {
   "interpreter": {
    "hash": "4a1510cba31268b21634179ae81759fbc3c3913c46f7c4983d733c42b88bcdb6"
   }
  }
 },
 "nbformat": 4,
 "nbformat_minor": 2
}
