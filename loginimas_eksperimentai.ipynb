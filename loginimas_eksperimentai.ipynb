{
 "cells": [
  {
   "cell_type": "code",
   "execution_count": 3,
   "metadata": {},
   "outputs": [],
   "source": [
    "def dalyba(a, b):\n",
    "    try:\n",
    "        res = a / b\n",
    "    except Exception as e:\n",
    "        print(e, e.__class__)\n",
    "    else:\n",
    "        print(f\"dalyba: {a} / {b} = {res}\")\n",
    "        return res\n"
   ]
  },
  {
   "cell_type": "code",
   "execution_count": 28,
   "metadata": {},
   "outputs": [],
   "source": [
    "import logging\n",
    "logging.basicConfig(level=logging.DEBUG)\n",
    "\n",
    "def dalyba(a, b):\n",
    "    try:\n",
    "        res = a / b\n",
    "    except Exception as e:\n",
    "        logging.exception(str(e)+str(e.__class__))\n",
    "    else:\n",
    "        logging.info(f\"dalyba: {a} / {b} = {res}\")\n",
    "        return res\n"
   ]
  },
  {
   "cell_type": "code",
   "execution_count": 29,
   "metadata": {},
   "outputs": [
    {
     "data": {
      "text/plain": [
       "2.3333333333333335"
      ]
     },
     "execution_count": 29,
     "metadata": {},
     "output_type": "execute_result"
    }
   ],
   "source": [
    "dalyba(7, 3)"
   ]
  },
  {
   "cell_type": "code",
   "execution_count": 30,
   "metadata": {},
   "outputs": [
    {
     "name": "stderr",
     "output_type": "stream",
     "text": [
      "ERROR:root:division by zero<class 'ZeroDivisionError'>\n",
      "Traceback (most recent call last):\n",
      "  File \"/tmp/ipykernel_14041/2313329322.py\", line 6, in dalyba\n",
      "    res = a / b\n",
      "ZeroDivisionError: division by zero\n"
     ]
    }
   ],
   "source": [
    "dalyba(7, 0)"
   ]
  }
 ],
 "metadata": {
  "kernelspec": {
   "display_name": "Python 3.10.6 ('venv': venv)",
   "language": "python",
   "name": "python3"
  },
  "language_info": {
   "codemirror_mode": {
    "name": "ipython",
    "version": 3
   },
   "file_extension": ".py",
   "mimetype": "text/x-python",
   "name": "python",
   "nbconvert_exporter": "python",
   "pygments_lexer": "ipython3",
   "version": "3.10.6"
  },
  "orig_nbformat": 4,
  "vscode": {
   "interpreter": {
    "hash": "4a1510cba31268b21634179ae81759fbc3c3913c46f7c4983d733c42b88bcdb6"
   }
  }
 },
 "nbformat": 4,
 "nbformat_minor": 2
}
