{
 "cells": [
  {
   "cell_type": "code",
   "execution_count": 2,
   "metadata": {},
   "outputs": [],
   "source": [
    "import numpy as np"
   ]
  },
  {
   "cell_type": "code",
   "execution_count": 10,
   "metadata": {},
   "outputs": [
    {
     "name": "stdout",
     "output_type": "stream",
     "text": [
      "[5 1 7 6]\n"
     ]
    }
   ],
   "source": [
    "sarasas = [5, 1, 7, 6]\n",
    "vektorius = np.array(sarasas)\n",
    "print(vektorius)"
   ]
  },
  {
   "cell_type": "code",
   "execution_count": 5,
   "metadata": {},
   "outputs": [
    {
     "data": {
      "text/plain": [
       "matrix([[4, 5, 6],\n",
       "        [1, 2, 3],\n",
       "        [7, 8, 9]])"
      ]
     },
     "execution_count": 5,
     "metadata": {},
     "output_type": "execute_result"
    }
   ],
   "source": [
    "sarasai = [\n",
    "    [4, 5, 6],\n",
    "    [1, 2, 3],\n",
    "    [7, 8, 9]\n",
    "]\n",
    "matrica = np.matrix(sarasai)\n",
    "matrica"
   ]
  },
  {
   "cell_type": "code",
   "execution_count": 9,
   "metadata": {},
   "outputs": [
    {
     "name": "stdout",
     "output_type": "stream",
     "text": [
      "[ 0  8 16 24 32 40 48 56 64 72 80 88]\n"
     ]
    },
    {
     "data": {
      "text/plain": [
       "array([ 0,  8, 16, 24, 32, 40, 48, 56, 64, 72, 80, 88])"
      ]
     },
     "execution_count": 9,
     "metadata": {},
     "output_type": "execute_result"
    }
   ],
   "source": [
    "print(np.arange(0, 89, 8))\n",
    "np.arange(0, 89, 8)"
   ]
  },
  {
   "cell_type": "code",
   "execution_count": 14,
   "metadata": {},
   "outputs": [
    {
     "data": {
      "text/plain": [
       "array([0., 0., 0., 0., 0., 0., 0.])"
      ]
     },
     "execution_count": 14,
     "metadata": {},
     "output_type": "execute_result"
    }
   ],
   "source": [
    "np.zeros(7)"
   ]
  },
  {
   "cell_type": "code",
   "execution_count": 13,
   "metadata": {},
   "outputs": [
    {
     "name": "stdout",
     "output_type": "stream",
     "text": [
      "[0. 0. 0. 0. 0. 0. 0.]\n"
     ]
    }
   ],
   "source": [
    "print(np.zeros(7))"
   ]
  },
  {
   "cell_type": "code",
   "execution_count": null,
   "metadata": {},
   "outputs": [],
   "source": [
    "print(np.zeros((7, 7), dtype=int))"
   ]
  },
  {
   "cell_type": "code",
   "execution_count": 20,
   "metadata": {},
   "outputs": [
    {
     "name": "stdout",
     "output_type": "stream",
     "text": [
      "[ 0.   2.5  5.   7.5 10.  12.5 15.  17.5 20. ]\n"
     ]
    }
   ],
   "source": [
    "print(np.linspace(0, 20, 9))"
   ]
  },
  {
   "cell_type": "code",
   "execution_count": 36,
   "metadata": {},
   "outputs": [
    {
     "name": "stdout",
     "output_type": "stream",
     "text": [
      "[[0. 0. 0. 0. 0.]\n",
      " [1. 0. 0. 0. 0.]\n",
      " [0. 1. 0. 0. 0.]\n",
      " [0. 0. 1. 0. 5.]\n",
      " [0. 0. 0. 1. 0.]]\n"
     ]
    }
   ],
   "source": [
    "vienetine = np.eye(5, k=-1)\n",
    "\n",
    "vienetine[3,4] = 5\n",
    "print(vienetine)\n"
   ]
  },
  {
   "cell_type": "markdown",
   "metadata": {},
   "source": [
    "# random array/matricos"
   ]
  },
  {
   "cell_type": "code",
   "execution_count": 32,
   "metadata": {},
   "outputs": [
    {
     "data": {
      "text/plain": [
       "array([0.05186286, 0.51719953, 0.22873735, 0.30541963, 0.77503778,\n",
       "       0.6243701 , 0.73754053, 0.37477656, 0.91427387, 0.57690918])"
      ]
     },
     "execution_count": 32,
     "metadata": {},
     "output_type": "execute_result"
    }
   ],
   "source": [
    "np.random.rand(10)"
   ]
  },
  {
   "cell_type": "code",
   "execution_count": 39,
   "metadata": {},
   "outputs": [
    {
     "name": "stdout",
     "output_type": "stream",
     "text": [
      "[[ 0.70907238 -0.69590251  0.9387054 ]\n",
      " [-0.19602833  1.48346725 -1.00235619]\n",
      " [ 0.04665091  0.58360111 -0.96252752]]\n"
     ]
    }
   ],
   "source": [
    "\n",
    "print(np.random.randn(3, 3))"
   ]
  },
  {
   "cell_type": "code",
   "execution_count": 35,
   "metadata": {},
   "outputs": [
    {
     "data": {
      "text/plain": [
       "array([[0.70899391, 0.45206772, 0.50815754],\n",
       "       [0.09935268, 0.60807049, 0.74773417],\n",
       "       [0.61286866, 0.67401757, 0.86078835]])"
      ]
     },
     "execution_count": 35,
     "metadata": {},
     "output_type": "execute_result"
    }
   ],
   "source": [
    "np.random.rand(3, 3)"
   ]
  },
  {
   "cell_type": "code",
   "execution_count": 45,
   "metadata": {},
   "outputs": [
    {
     "name": "stdout",
     "output_type": "stream",
     "text": [
      "[  2   2  -6  -2  -6  -1   1   2  10  -8   0   2   3   8   3   2  -8  -5\n",
      "  -8  -2   9   0   4   9  -5  -3   6   6   8   5   5  -9   5   4  -3   0\n",
      "  -5  -1 -10   4   8  -5   9  -6  -5   6  -6  -6   2  -7 -10  -6   4  -9\n",
      "  -5  -4  -4   4  -8  -9   1   5  10   5   3   0  -9  -2   4 -10  -1  -8\n",
      "   6  -7  -2   2  -3]\n",
      "<class 'numpy.ndarray'>\n"
     ]
    }
   ],
   "source": [
    "bandom = np.random.randint(-10, 11, 77)\n",
    "print(bandom)\n",
    "print(type(bandom))"
   ]
  },
  {
   "cell_type": "markdown",
   "metadata": {},
   "source": [
    "# masyvu pertvarkymas"
   ]
  },
  {
   "cell_type": "code",
   "execution_count": 80,
   "metadata": {},
   "outputs": [
    {
     "name": "stdout",
     "output_type": "stream",
     "text": [
      "[[ 7  6  4 -6  3  9 -3 -3]\n",
      " [ 3 -6 -3  1 -5 -3  0  5]\n",
      " [-6  9 -1 -4  9 -3  3  1]\n",
      " [-3 -5 -8 -2  7  3 -1  1]\n",
      " [ 3  6  4  7  8  6 -1  8]]\n"
     ]
    }
   ],
   "source": [
    "masyvas = np.random.randint(-9, 10, 40)\n",
    "pertvarkytas = masyvas.reshape(5, 8)\n",
    "print(pertvarkytas)\n"
   ]
  },
  {
   "cell_type": "code",
   "execution_count": 82,
   "metadata": {},
   "outputs": [
    {
     "name": "stdout",
     "output_type": "stream",
     "text": [
      "-8\n",
      "9\n"
     ]
    }
   ],
   "source": [
    "print(pertvarkytas.min())\n",
    "print(pertvarkytas.max())"
   ]
  },
  {
   "cell_type": "code",
   "execution_count": 81,
   "metadata": {},
   "outputs": [
    {
     "name": "stdout",
     "output_type": "stream",
     "text": [
      "26\n",
      "5\n",
      "(5, 8)\n"
     ]
    }
   ],
   "source": [
    "print(pertvarkytas.argmin())\n",
    "print(pertvarkytas.argmax())\n",
    "print(pertvarkytas.shape)"
   ]
  },
  {
   "cell_type": "markdown",
   "metadata": {},
   "source": [
    "# masyvu pertvarkymas"
   ]
  },
  {
   "cell_type": "code",
   "execution_count": 75,
   "metadata": {},
   "outputs": [
    {
     "data": {
      "text/plain": [
       "array([[ 0, -8, -8, -4,  9, -1,  3,  6],\n",
       "       [ 6,  7,  5,  4,  0,  2, -2,  9],\n",
       "       [-1,  6,  3, -9,  8,  7,  7,  8],\n",
       "       [-8,  5,  9,  6, -1, -7,  7,  3],\n",
       "       [ 7,  1, -7,  6, -4, -8,  1, -2]])"
      ]
     },
     "execution_count": 75,
     "metadata": {},
     "output_type": "execute_result"
    }
   ],
   "source": [
    "masyvas = np.random.randint(-9, 10, 40)\n",
    "\n",
    "masyvas.reshape(5, 8)\n"
   ]
  },
  {
   "cell_type": "code",
   "execution_count": 76,
   "metadata": {},
   "outputs": [
    {
     "data": {
      "text/plain": [
       "-1"
      ]
     },
     "execution_count": 76,
     "metadata": {},
     "output_type": "execute_result"
    }
   ],
   "source": [
    "masyvas[5]"
   ]
  },
  {
   "cell_type": "code",
   "execution_count": 77,
   "metadata": {},
   "outputs": [
    {
     "data": {
      "text/plain": [
       "array([-4,  9, -1,  3,  6,  6,  7,  5,  4,  0])"
      ]
     },
     "execution_count": 77,
     "metadata": {},
     "output_type": "execute_result"
    }
   ],
   "source": [
    "masyvas[3:13]"
   ]
  },
  {
   "cell_type": "code",
   "execution_count": 78,
   "metadata": {},
   "outputs": [],
   "source": [
    "masyvas[::4] = 44\n",
    "masyvas[7]"
   ]
  },
  {
   "cell_type": "code",
   "execution_count": 73,
   "metadata": {},
   "outputs": [
    {
     "data": {
      "text/plain": [
       "44"
      ]
     },
     "execution_count": 73,
     "metadata": {},
     "output_type": "execute_result"
    }
   ],
   "source": [
    "pertvarkytas[0,0]\n"
   ]
  },
  {
   "cell_type": "code",
   "execution_count": 83,
   "metadata": {},
   "outputs": [
    {
     "data": {
      "text/plain": [
       "array([[-3,  0,  5],\n",
       "       [-3,  3,  1],\n",
       "       [ 3, -1,  1]])"
      ]
     },
     "execution_count": 83,
     "metadata": {},
     "output_type": "execute_result"
    }
   ],
   "source": [
    "pertvarkytas[1:4, 5:8]"
   ]
  },
  {
   "cell_type": "code",
   "execution_count": 84,
   "metadata": {},
   "outputs": [
    {
     "data": {
      "text/plain": [
       "array([[ 95,  25,  34,  51,  12,   8,   8,  94,  81,   4],\n",
       "       [ 64,  40,  20,  76,  50,  73,  38,  66, 100,  26],\n",
       "       [ 42,  77,  78,  11,  80,  28,  90,   7,  63,  67],\n",
       "       [ 21,  51,  14,  70,  58,  24,  88,  40,  84,  10],\n",
       "       [ 54,   2,  24,  58,  85,  61,  88,   0,  40,  17],\n",
       "       [ 46,  96,  33,  77,  15,  97,   9,   8,  90,  63],\n",
       "       [ 43,  77,  36,   3,  48,  56,  64,  39,  55,  13],\n",
       "       [ 73,  64,  37,  61,  47,  11,  83,  20,  14,   6],\n",
       "       [ 38,   9,  69,  55,  54,  70,  58,   1,  74,  53],\n",
       "       [ 32,  20,  84,  59,  22,  54,  11,  83,  29,  94]])"
      ]
     },
     "execution_count": 84,
     "metadata": {},
     "output_type": "execute_result"
    }
   ],
   "source": [
    "bandom = np.random.randint(0, 101, 100)\n",
    "matrica = bandom.reshape(10, 10)\n",
    "matrica"
   ]
  },
  {
   "cell_type": "code",
   "execution_count": 85,
   "metadata": {},
   "outputs": [
    {
     "data": {
      "text/plain": [
       "array([[95, 34, 12,  8, 81],\n",
       "       [42, 78, 80, 90, 63],\n",
       "       [54, 24, 85, 88, 40],\n",
       "       [43, 36, 48, 64, 55],\n",
       "       [38, 69, 54, 58, 74]])"
      ]
     },
     "execution_count": 85,
     "metadata": {},
     "output_type": "execute_result"
    }
   ],
   "source": [
    "matrica[::2, ::2]"
   ]
  },
  {
   "cell_type": "code",
   "execution_count": 86,
   "metadata": {},
   "outputs": [
    {
     "data": {
      "text/plain": [
       "array([[74, 58, 54, 69, 38],\n",
       "       [55, 64, 48, 36, 43],\n",
       "       [40, 88, 85, 24, 54],\n",
       "       [63, 90, 80, 78, 42],\n",
       "       [81,  8, 12, 34, 95]])"
      ]
     },
     "execution_count": 86,
     "metadata": {},
     "output_type": "execute_result"
    }
   ],
   "source": [
    "matrica[-2::-2, -2::-2]"
   ]
  },
  {
   "cell_type": "code",
   "execution_count": 87,
   "metadata": {},
   "outputs": [
    {
     "data": {
      "text/plain": [
       "array([[95],\n",
       "       [64],\n",
       "       [42],\n",
       "       [21],\n",
       "       [54],\n",
       "       [46],\n",
       "       [43],\n",
       "       [73],\n",
       "       [38],\n",
       "       [32]])"
      ]
     },
     "execution_count": 87,
     "metadata": {},
     "output_type": "execute_result"
    }
   ],
   "source": [
    "matrica[:, :1]"
   ]
  },
  {
   "cell_type": "code",
   "execution_count": 92,
   "metadata": {},
   "outputs": [
    {
     "data": {
      "text/plain": [
       "array([[21, 51, 14, 70, 58, 24, 88, 40, 84, 10],\n",
       "       [54,  2, 24, 58, 85, 61, 88,  0, 40, 17]])"
      ]
     },
     "execution_count": 92,
     "metadata": {},
     "output_type": "execute_result"
    }
   ],
   "source": [
    "matrica[3:5, :]"
   ]
  },
  {
   "cell_type": "markdown",
   "metadata": {},
   "source": [
    "# traukimas pagal salyga"
   ]
  },
  {
   "cell_type": "code",
   "execution_count": 112,
   "metadata": {},
   "outputs": [
    {
     "data": {
      "text/plain": [
       "array([7, 6, 4, 3, 3, 9, 3, 3, 3, 3, 3, 3, 3, 3, 3, 5, 3, 9, 3, 3, 9, 3,\n",
       "       3, 3, 3, 3, 3, 3, 7, 3, 3, 3, 3, 6, 4, 7, 8, 6, 3, 8])"
      ]
     },
     "execution_count": 112,
     "metadata": {},
     "output_type": "execute_result"
    }
   ],
   "source": [
    "masyvas"
   ]
  },
  {
   "cell_type": "code",
   "execution_count": 97,
   "metadata": {},
   "outputs": [
    {
     "data": {
      "text/plain": [
       "array([ True,  True,  True, False, False,  True, False, False, False,\n",
       "       False, False, False, False, False, False,  True, False,  True,\n",
       "       False, False,  True, False, False, False, False, False, False,\n",
       "       False,  True, False, False, False, False,  True,  True,  True,\n",
       "        True,  True, False,  True])"
      ]
     },
     "execution_count": 97,
     "metadata": {},
     "output_type": "execute_result"
    }
   ],
   "source": [
    "masyvas > 3"
   ]
  },
  {
   "cell_type": "code",
   "execution_count": 95,
   "metadata": {},
   "outputs": [
    {
     "data": {
      "text/plain": [
       "array([7, 6, 4, 9, 5, 9, 9, 7, 6, 4, 7, 8, 6, 8])"
      ]
     },
     "execution_count": 95,
     "metadata": {},
     "output_type": "execute_result"
    }
   ],
   "source": [
    "masyvas[masyvas > 3]"
   ]
  },
  {
   "cell_type": "code",
   "execution_count": 98,
   "metadata": {},
   "outputs": [
    {
     "name": "stdout",
     "output_type": "stream",
     "text": [
      "[False False False  True False False  True  True False  True  True  True\n",
      "  True  True  True False  True False  True  True False  True False  True\n",
      "  True  True  True  True False False  True  True False False False False\n",
      " False False  True False]\n"
     ]
    }
   ],
   "source": [
    "iki_3 = masyvas < 3\n",
    "print(iki_3)"
   ]
  },
  {
   "cell_type": "code",
   "execution_count": 99,
   "metadata": {},
   "outputs": [
    {
     "data": {
      "text/plain": [
       "array([-6, -3, -3, -6, -3,  1, -5, -3,  0, -6, -1, -4, -3,  1, -3, -5, -8,\n",
       "       -2, -1,  1, -1])"
      ]
     },
     "execution_count": 99,
     "metadata": {},
     "output_type": "execute_result"
    }
   ],
   "source": [
    "masyvas[iki_3]"
   ]
  },
  {
   "cell_type": "code",
   "execution_count": 109,
   "metadata": {},
   "outputs": [
    {
     "data": {
      "text/plain": [
       "array([7, 6, 4, 3, 3, 9, 3, 3, 3, 3, 3, 3, 3, 3, 3, 5, 3, 9, 3, 3, 9, 3,\n",
       "       3, 3, 3, 3, 3, 3, 7, 3, 3, 3, 3, 6, 4, 7, 8, 6, 3, 8])"
      ]
     },
     "execution_count": 109,
     "metadata": {},
     "output_type": "execute_result"
    }
   ],
   "source": [
    "masyvas[iki_3] = 3\n",
    "masyvas"
   ]
  },
  {
   "cell_type": "code",
   "execution_count": 115,
   "metadata": {},
   "outputs": [
    {
     "data": {
      "text/plain": [
       "array([7, 6, 4, 9, 5, 9, 9, 7, 6, 4, 7, 8, 6, 8])"
      ]
     },
     "execution_count": 115,
     "metadata": {},
     "output_type": "execute_result"
    }
   ],
   "source": [
    "np.array([x for x in masyvas if x > 3])"
   ]
  },
  {
   "cell_type": "code",
   "execution_count": 123,
   "metadata": {},
   "outputs": [
    {
     "name": "stdout",
     "output_type": "stream",
     "text": [
      "[83 15 51 87 22  7  9 55 51 88 96 82  2 37 80 44 93 60 71 69]\n"
     ]
    },
    {
     "data": {
      "text/plain": [
       "array([133,  15, 101, 137,  22,   7,   9, 105, 101, 138, 146, 132,   2,\n",
       "        37, 130,  44, 143, 110, 121, 119])"
      ]
     },
     "execution_count": 123,
     "metadata": {},
     "output_type": "execute_result"
    }
   ],
   "source": [
    "naujas = np.random.randint(0, 99, 20)\n",
    "print(naujas)\n",
    "naujas[naujas > 50] = [50+x for x in naujas if x >50]\n",
    "naujas"
   ]
  },
  {
   "cell_type": "code",
   "execution_count": 139,
   "metadata": {},
   "outputs": [
    {
     "name": "stdout",
     "output_type": "stream",
     "text": [
      "[27 35 70 35 12 50 16  1 86  1 87 73  5  8  8 67  8 73 61 47 66 82 35 27\n",
      " 24 10 63 11 80 70  4 83 52 70 28 29 65 84 15 61 12 82 48  8 19 74 37 75\n",
      " 49 51 17 67 25 59 35 33  6 72 86 68 49 19 23 86 45 26  7 22 22 48 20  2\n",
      " 49 45 16 41 61 42  5 23 79  0 50 60 64 15 61  5 30 22 68 49 37 58 53 88\n",
      " 84 71 46 84]\n",
      "[ 4 83 52 70 28 29 65 84 15 61 12 82 48  8 19 74 37 75 49 51 17 67 25 59\n",
      " 35 33  6 72 86 68]\n"
     ]
    }
   ],
   "source": [
    "masyvas_naujas = np.random.randint(0, 90, 100)\n",
    "kopija = masyvas_naujas.copy()[30:60]\n",
    "\n",
    "\n",
    "\n",
    "print(masyvas_naujas)\n",
    "print(kopija)\n"
   ]
  },
  {
   "cell_type": "code",
   "execution_count": 144,
   "metadata": {},
   "outputs": [
    {
     "name": "stdout",
     "output_type": "stream",
     "text": [
      "[35, 35, 50, 47, 35, 52, 48, 37, 49, 51, 59, 35, 33, 49, 45, 48, 49, 45, 41, 42, 50, 49, 37, 58, 53, 46]\n"
     ]
    }
   ],
   "source": [
    "kombinuotas = [x for x in masyvas_naujas if x>30 and x<60]\n",
    "print(kombinuotas)"
   ]
  },
  {
   "cell_type": "code",
   "execution_count": 146,
   "metadata": {},
   "outputs": [
    {
     "data": {
      "text/plain": [
       "array([35, 35, 50, 47, 35, 52, 48, 37, 49, 51, 59, 35, 33, 49, 45, 48, 49,\n",
       "       45, 41, 42, 50, 30, 49, 37, 58, 53, 46])"
      ]
     },
     "execution_count": 146,
     "metadata": {},
     "output_type": "execute_result"
    }
   ],
   "source": [
    "tarpinis = masyvas_naujas[masyvas_naujas >= 30]\n",
    "tarpinis[tarpinis <60]"
   ]
  },
  {
   "cell_type": "code",
   "execution_count": 147,
   "metadata": {},
   "outputs": [
    {
     "data": {
      "text/plain": [
       "array([ 1,  2,  3,  4,  5,  6,  7,  8,  9, 10])"
      ]
     },
     "execution_count": 147,
     "metadata": {},
     "output_type": "execute_result"
    }
   ],
   "source": [
    "vektorius = np.arange(1, 11, 1)\n",
    "vektorius"
   ]
  },
  {
   "cell_type": "code",
   "execution_count": 148,
   "metadata": {},
   "outputs": [
    {
     "data": {
      "text/plain": [
       "array([   1,    8,   27,   64,  125,  216,  343,  512,  729, 1000],\n",
       "      dtype=int32)"
      ]
     },
     "execution_count": 148,
     "metadata": {},
     "output_type": "execute_result"
    }
   ],
   "source": [
    "vektorius ** 3"
   ]
  },
  {
   "cell_type": "code",
   "execution_count": 149,
   "metadata": {},
   "outputs": [
    {
     "data": {
      "text/plain": [
       "array([  1.,   4.,   9.,  16.,  25.,  36.,  49.,  64.,  81., 100.])"
      ]
     },
     "execution_count": 149,
     "metadata": {},
     "output_type": "execute_result"
    }
   ],
   "source": [
    "vektorius ** 3 / vektorius"
   ]
  },
  {
   "cell_type": "code",
   "execution_count": 150,
   "metadata": {},
   "outputs": [
    {
     "data": {
      "text/plain": [
       "array([10.1, 10.2, 10.3, 10.4, 10.5, 10.6, 10.7, 10.8, 10.9, 11. ])"
      ]
     },
     "execution_count": 150,
     "metadata": {},
     "output_type": "execute_result"
    }
   ],
   "source": [
    "(vektorius + 100) / 10"
   ]
  },
  {
   "cell_type": "code",
   "execution_count": 156,
   "metadata": {},
   "outputs": [
    {
     "data": {
      "text/plain": [
       "array([ 0.84147098,  0.90929743,  0.14112001, -0.7568025 , -0.95892427,\n",
       "       -0.2794155 ,  0.6569866 ,  0.98935825,  0.41211849, -0.54402111])"
      ]
     },
     "execution_count": 156,
     "metadata": {},
     "output_type": "execute_result"
    }
   ],
   "source": [
    "np.cos(vektorius)\n",
    "np.log(vektorius ** 2)\n",
    "np.tan(vektorius)\n",
    "np.sin(vektorius)"
   ]
  }
 ],
 "metadata": {
  "kernelspec": {
   "display_name": "Python 3.10.6 ('venv': venv)",
   "language": "python",
   "name": "python3"
  },
  "language_info": {
   "codemirror_mode": {
    "name": "ipython",
    "version": 3
   },
   "file_extension": ".py",
   "mimetype": "text/x-python",
   "name": "python",
   "nbconvert_exporter": "python",
   "pygments_lexer": "ipython3",
   "version": "3.10.6"
  },
  "orig_nbformat": 4,
  "vscode": {
   "interpreter": {
    "hash": "4a1510cba31268b21634179ae81759fbc3c3913c46f7c4983d733c42b88bcdb6"
   }
  }
 },
 "nbformat": 4,
 "nbformat_minor": 2
}
