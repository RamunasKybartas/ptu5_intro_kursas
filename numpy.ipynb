{
 "cells": [
  {
   "cell_type": "code",
   "execution_count": 2,
   "metadata": {},
   "outputs": [],
   "source": [
    "import numpy as np"
   ]
  },
  {
   "cell_type": "code",
   "execution_count": 3,
   "metadata": {},
   "outputs": [
    {
     "name": "stdout",
     "output_type": "stream",
     "text": [
      "[5 1 7 6]\n"
     ]
    }
   ],
   "source": [
    "sarasas = [5, 1, 7, 6]\n",
    "vektorius = np.array(sarasas)\n",
    "print(vektorius)"
   ]
  },
  {
   "cell_type": "code",
   "execution_count": 4,
   "metadata": {},
   "outputs": [
    {
     "data": {
      "text/plain": [
       "matrix([[4, 5, 6],\n",
       "        [1, 2, 3],\n",
       "        [7, 8, 9]])"
      ]
     },
     "execution_count": 4,
     "metadata": {},
     "output_type": "execute_result"
    }
   ],
   "source": [
    "sarasai = [\n",
    "    [4, 5, 6],\n",
    "    [1, 2, 3],\n",
    "    [7, 8, 9]\n",
    "]\n",
    "matrica = np.matrix(sarasai)\n",
    "matrica"
   ]
  },
  {
   "cell_type": "code",
   "execution_count": 5,
   "metadata": {},
   "outputs": [
    {
     "name": "stdout",
     "output_type": "stream",
     "text": [
      "[ 0  8 16 24 32 40 48 56 64 72 80 88]\n"
     ]
    },
    {
     "data": {
      "text/plain": [
       "array([ 0,  8, 16, 24, 32, 40, 48, 56, 64, 72, 80, 88])"
      ]
     },
     "execution_count": 5,
     "metadata": {},
     "output_type": "execute_result"
    }
   ],
   "source": [
    "print(np.arange(0, 89, 8))\n",
    "np.arange(0, 89, 8)"
   ]
  },
  {
   "cell_type": "code",
   "execution_count": 6,
   "metadata": {},
   "outputs": [
    {
     "data": {
      "text/plain": [
       "array([0., 0., 0., 0., 0., 0., 0.])"
      ]
     },
     "execution_count": 6,
     "metadata": {},
     "output_type": "execute_result"
    }
   ],
   "source": [
    "np.zeros(7)"
   ]
  },
  {
   "cell_type": "code",
   "execution_count": 7,
   "metadata": {},
   "outputs": [
    {
     "name": "stdout",
     "output_type": "stream",
     "text": [
      "[0. 0. 0. 0. 0. 0. 0.]\n"
     ]
    }
   ],
   "source": [
    "print(np.zeros(7))"
   ]
  },
  {
   "cell_type": "code",
   "execution_count": 8,
   "metadata": {},
   "outputs": [
    {
     "name": "stdout",
     "output_type": "stream",
     "text": [
      "[[0 0 0 0 0 0 0]\n",
      " [0 0 0 0 0 0 0]\n",
      " [0 0 0 0 0 0 0]\n",
      " [0 0 0 0 0 0 0]\n",
      " [0 0 0 0 0 0 0]\n",
      " [0 0 0 0 0 0 0]\n",
      " [0 0 0 0 0 0 0]]\n"
     ]
    }
   ],
   "source": [
    "print(np.zeros((7, 7), dtype=int))"
   ]
  },
  {
   "cell_type": "code",
   "execution_count": 9,
   "metadata": {},
   "outputs": [
    {
     "name": "stdout",
     "output_type": "stream",
     "text": [
      "[ 0.   2.5  5.   7.5 10.  12.5 15.  17.5 20. ]\n"
     ]
    }
   ],
   "source": [
    "print(np.linspace(0, 20, 9))"
   ]
  },
  {
   "cell_type": "code",
   "execution_count": 10,
   "metadata": {},
   "outputs": [
    {
     "name": "stdout",
     "output_type": "stream",
     "text": [
      "[[0. 0. 0. 0. 0.]\n",
      " [1. 0. 0. 0. 0.]\n",
      " [0. 1. 0. 0. 0.]\n",
      " [0. 0. 1. 0. 5.]\n",
      " [0. 0. 0. 1. 0.]]\n"
     ]
    }
   ],
   "source": [
    "vienetine = np.eye(5, k=-1)\n",
    "\n",
    "vienetine[3,4] = 5\n",
    "print(vienetine)\n"
   ]
  },
  {
   "cell_type": "markdown",
   "metadata": {},
   "source": [
    "# random array/matricos"
   ]
  },
  {
   "cell_type": "code",
   "execution_count": 11,
   "metadata": {},
   "outputs": [
    {
     "data": {
      "text/plain": [
       "array([0.74911938, 0.33584858, 0.85708905, 0.41985599, 0.40926948,\n",
       "       0.80778506, 0.45203113, 0.06367466, 0.90205929, 0.55074277])"
      ]
     },
     "execution_count": 11,
     "metadata": {},
     "output_type": "execute_result"
    }
   ],
   "source": [
    "np.random.rand(10)"
   ]
  },
  {
   "cell_type": "code",
   "execution_count": 12,
   "metadata": {},
   "outputs": [
    {
     "name": "stdout",
     "output_type": "stream",
     "text": [
      "[[-0.4294505   0.3196425  -0.22630345]\n",
      " [ 0.95341966  0.55482589 -0.18479244]\n",
      " [-1.56036118  1.77211598 -0.75000232]]\n"
     ]
    }
   ],
   "source": [
    "\n",
    "print(np.random.randn(3, 3))"
   ]
  },
  {
   "cell_type": "code",
   "execution_count": 13,
   "metadata": {},
   "outputs": [
    {
     "data": {
      "text/plain": [
       "array([[0.92158167, 0.52224444, 0.68950112],\n",
       "       [0.83472873, 0.07953653, 0.34401352],\n",
       "       [0.85001179, 0.82356405, 0.74044229]])"
      ]
     },
     "execution_count": 13,
     "metadata": {},
     "output_type": "execute_result"
    }
   ],
   "source": [
    "np.random.rand(3, 3)"
   ]
  },
  {
   "cell_type": "code",
   "execution_count": 14,
   "metadata": {},
   "outputs": [
    {
     "name": "stdout",
     "output_type": "stream",
     "text": [
      "[ 10  10   5  -2   5  -6   6  -4  -5  -8   2  -4 -10   5  -3   4  -9  -1\n",
      "   5   5  -2 -10   8   0   8  -9   4  -5   8  -1   7  10  -9   5  -2   1\n",
      "  -6  -9   5   0  -2  -8  -8   7  10   5  -1   3   6  -6   0  -2  -9   0\n",
      "   0  -6  -9   4   0  -6   0   9  -5   3   8  -5  -5   7  -8   1   5   3\n",
      "  -1  -5  -8  -8   9]\n",
      "<class 'numpy.ndarray'>\n"
     ]
    }
   ],
   "source": [
    "bandom = np.random.randint(-10, 11, 77)\n",
    "print(bandom)\n",
    "print(type(bandom))"
   ]
  },
  {
   "cell_type": "markdown",
   "metadata": {},
   "source": [
    "# masyvu pertvarkymas"
   ]
  },
  {
   "cell_type": "code",
   "execution_count": 15,
   "metadata": {},
   "outputs": [
    {
     "name": "stdout",
     "output_type": "stream",
     "text": [
      "[[-5  9 -2 -1 -4  3  1 -5]\n",
      " [-5 -9  9  3  0  1 -8 -1]\n",
      " [ 5 -4  4  9 -5  1 -9  0]\n",
      " [-3  1  8  1 -9  9  2 -3]\n",
      " [-6 -9 -4  8  0  5  2  4]]\n"
     ]
    }
   ],
   "source": [
    "masyvas = np.random.randint(-9, 10, 40)\n",
    "pertvarkytas = masyvas.reshape(5, 8)\n",
    "print(pertvarkytas)\n"
   ]
  },
  {
   "cell_type": "code",
   "execution_count": 16,
   "metadata": {},
   "outputs": [
    {
     "name": "stdout",
     "output_type": "stream",
     "text": [
      "-9\n",
      "9\n"
     ]
    }
   ],
   "source": [
    "print(pertvarkytas.min())\n",
    "print(pertvarkytas.max())"
   ]
  },
  {
   "cell_type": "code",
   "execution_count": 17,
   "metadata": {},
   "outputs": [
    {
     "name": "stdout",
     "output_type": "stream",
     "text": [
      "9\n",
      "1\n",
      "(5, 8)\n"
     ]
    }
   ],
   "source": [
    "print(pertvarkytas.argmin())\n",
    "print(pertvarkytas.argmax())\n",
    "print(pertvarkytas.shape)"
   ]
  },
  {
   "cell_type": "markdown",
   "metadata": {},
   "source": [
    "# masyvu pertvarkymas"
   ]
  },
  {
   "cell_type": "code",
   "execution_count": 18,
   "metadata": {},
   "outputs": [
    {
     "data": {
      "text/plain": [
       "array([[ 3, -5,  9,  4, -8, -2,  0,  7],\n",
       "       [ 7, -9,  4, -7,  9,  9,  9, -7],\n",
       "       [ 1,  2,  0,  6,  3,  0, -7, -6],\n",
       "       [ 7,  8, -3, -5, -4, -7, -4,  0],\n",
       "       [ 1, -9, -6,  7, -6, -4,  1, -1]])"
      ]
     },
     "execution_count": 18,
     "metadata": {},
     "output_type": "execute_result"
    }
   ],
   "source": [
    "masyvas = np.random.randint(-9, 10, 40)\n",
    "\n",
    "masyvas.reshape(5, 8)\n"
   ]
  },
  {
   "cell_type": "code",
   "execution_count": 19,
   "metadata": {},
   "outputs": [
    {
     "data": {
      "text/plain": [
       "-2"
      ]
     },
     "execution_count": 19,
     "metadata": {},
     "output_type": "execute_result"
    }
   ],
   "source": [
    "masyvas[5]"
   ]
  },
  {
   "cell_type": "code",
   "execution_count": 20,
   "metadata": {},
   "outputs": [
    {
     "data": {
      "text/plain": [
       "array([ 4, -8, -2,  0,  7,  7, -9,  4, -7,  9])"
      ]
     },
     "execution_count": 20,
     "metadata": {},
     "output_type": "execute_result"
    }
   ],
   "source": [
    "masyvas[3:13]"
   ]
  },
  {
   "cell_type": "code",
   "execution_count": 21,
   "metadata": {},
   "outputs": [
    {
     "data": {
      "text/plain": [
       "7"
      ]
     },
     "execution_count": 21,
     "metadata": {},
     "output_type": "execute_result"
    }
   ],
   "source": [
    "masyvas[::4] = 44\n",
    "masyvas[7]"
   ]
  },
  {
   "cell_type": "code",
   "execution_count": 22,
   "metadata": {},
   "outputs": [
    {
     "data": {
      "text/plain": [
       "-5"
      ]
     },
     "execution_count": 22,
     "metadata": {},
     "output_type": "execute_result"
    }
   ],
   "source": [
    "pertvarkytas[0,0]\n"
   ]
  },
  {
   "cell_type": "code",
   "execution_count": 23,
   "metadata": {},
   "outputs": [
    {
     "data": {
      "text/plain": [
       "array([[ 1, -8, -1],\n",
       "       [ 1, -9,  0],\n",
       "       [ 9,  2, -3]])"
      ]
     },
     "execution_count": 23,
     "metadata": {},
     "output_type": "execute_result"
    }
   ],
   "source": [
    "pertvarkytas[1:4, 5:8]"
   ]
  },
  {
   "cell_type": "code",
   "execution_count": 24,
   "metadata": {},
   "outputs": [
    {
     "data": {
      "text/plain": [
       "array([[76, 43,  4, 10, 89, 99, 74, 37, 94, 22],\n",
       "       [28, 74, 77, 90, 31, 98, 17, 64, 58,  2],\n",
       "       [85, 52, 79, 52,  8, 95, 88, 44, 85, 69],\n",
       "       [54, 32,  8,  3, 25, 92, 45, 22, 72, 80],\n",
       "       [99, 80, 34, 97, 34, 30, 75, 38, 27, 84],\n",
       "       [66, 99, 87, 95, 90, 45, 96, 26, 46, 77],\n",
       "       [33, 81, 86, 44, 79, 45, 78, 90,  7, 83],\n",
       "       [49, 34, 81, 33,  7, 99, 78, 62, 49, 26],\n",
       "       [97, 24, 93, 18, 38, 50, 81, 40, 74,  2],\n",
       "       [83, 23, 52,  2, 71, 10, 56, 83, 93, 58]])"
      ]
     },
     "execution_count": 24,
     "metadata": {},
     "output_type": "execute_result"
    }
   ],
   "source": [
    "bandom = np.random.randint(0, 101, 100)\n",
    "matrica = bandom.reshape(10, 10)\n",
    "matrica"
   ]
  },
  {
   "cell_type": "code",
   "execution_count": 25,
   "metadata": {},
   "outputs": [
    {
     "data": {
      "text/plain": [
       "array([[76,  4, 89, 74, 94],\n",
       "       [85, 79,  8, 88, 85],\n",
       "       [99, 34, 34, 75, 27],\n",
       "       [33, 86, 79, 78,  7],\n",
       "       [97, 93, 38, 81, 74]])"
      ]
     },
     "execution_count": 25,
     "metadata": {},
     "output_type": "execute_result"
    }
   ],
   "source": [
    "matrica[::2, ::2]"
   ]
  },
  {
   "cell_type": "code",
   "execution_count": 26,
   "metadata": {},
   "outputs": [
    {
     "data": {
      "text/plain": [
       "array([[74, 81, 38, 93, 97],\n",
       "       [ 7, 78, 79, 86, 33],\n",
       "       [27, 75, 34, 34, 99],\n",
       "       [85, 88,  8, 79, 85],\n",
       "       [94, 74, 89,  4, 76]])"
      ]
     },
     "execution_count": 26,
     "metadata": {},
     "output_type": "execute_result"
    }
   ],
   "source": [
    "matrica[-2::-2, -2::-2]"
   ]
  },
  {
   "cell_type": "code",
   "execution_count": 27,
   "metadata": {},
   "outputs": [
    {
     "data": {
      "text/plain": [
       "array([[76],\n",
       "       [28],\n",
       "       [85],\n",
       "       [54],\n",
       "       [99],\n",
       "       [66],\n",
       "       [33],\n",
       "       [49],\n",
       "       [97],\n",
       "       [83]])"
      ]
     },
     "execution_count": 27,
     "metadata": {},
     "output_type": "execute_result"
    }
   ],
   "source": [
    "matrica[:, :1]"
   ]
  },
  {
   "cell_type": "code",
   "execution_count": 28,
   "metadata": {},
   "outputs": [
    {
     "data": {
      "text/plain": [
       "array([[54, 32,  8,  3, 25, 92, 45, 22, 72, 80],\n",
       "       [99, 80, 34, 97, 34, 30, 75, 38, 27, 84]])"
      ]
     },
     "execution_count": 28,
     "metadata": {},
     "output_type": "execute_result"
    }
   ],
   "source": [
    "matrica[3:5, :]"
   ]
  },
  {
   "cell_type": "markdown",
   "metadata": {},
   "source": [
    "# traukimas pagal salyga"
   ]
  },
  {
   "cell_type": "code",
   "execution_count": 29,
   "metadata": {},
   "outputs": [
    {
     "data": {
      "text/plain": [
       "array([44, -5,  9,  4, 44, -2,  0,  7, 44, -9,  4, -7, 44,  9,  9, -7, 44,\n",
       "        2,  0,  6, 44,  0, -7, -6, 44,  8, -3, -5, 44, -7, -4,  0, 44, -9,\n",
       "       -6,  7, 44, -4,  1, -1])"
      ]
     },
     "execution_count": 29,
     "metadata": {},
     "output_type": "execute_result"
    }
   ],
   "source": [
    "masyvas"
   ]
  },
  {
   "cell_type": "code",
   "execution_count": 30,
   "metadata": {},
   "outputs": [
    {
     "data": {
      "text/plain": [
       "array([ True, False,  True,  True,  True, False, False,  True,  True,\n",
       "       False,  True, False,  True,  True,  True, False,  True, False,\n",
       "       False,  True,  True, False, False, False,  True,  True, False,\n",
       "       False,  True, False, False, False,  True, False, False,  True,\n",
       "        True, False, False, False])"
      ]
     },
     "execution_count": 30,
     "metadata": {},
     "output_type": "execute_result"
    }
   ],
   "source": [
    "masyvas > 3"
   ]
  },
  {
   "cell_type": "code",
   "execution_count": 31,
   "metadata": {},
   "outputs": [
    {
     "data": {
      "text/plain": [
       "array([44,  9,  4, 44,  7, 44,  4, 44,  9,  9, 44,  6, 44, 44,  8, 44, 44,\n",
       "        7, 44])"
      ]
     },
     "execution_count": 31,
     "metadata": {},
     "output_type": "execute_result"
    }
   ],
   "source": [
    "masyvas[masyvas > 3]"
   ]
  },
  {
   "cell_type": "code",
   "execution_count": 32,
   "metadata": {},
   "outputs": [
    {
     "name": "stdout",
     "output_type": "stream",
     "text": [
      "[False  True False False False  True  True False False  True False  True\n",
      " False False False  True False  True  True False False  True  True  True\n",
      " False False  True  True False  True  True  True False  True  True False\n",
      " False  True  True  True]\n"
     ]
    }
   ],
   "source": [
    "iki_3 = masyvas < 3\n",
    "print(iki_3)"
   ]
  },
  {
   "cell_type": "code",
   "execution_count": 33,
   "metadata": {},
   "outputs": [
    {
     "data": {
      "text/plain": [
       "array([-5, -2,  0, -9, -7, -7,  2,  0,  0, -7, -6, -3, -5, -7, -4,  0, -9,\n",
       "       -6, -4,  1, -1])"
      ]
     },
     "execution_count": 33,
     "metadata": {},
     "output_type": "execute_result"
    }
   ],
   "source": [
    "masyvas[iki_3]"
   ]
  },
  {
   "cell_type": "code",
   "execution_count": 34,
   "metadata": {},
   "outputs": [
    {
     "data": {
      "text/plain": [
       "array([44,  3,  9,  4, 44,  3,  3,  7, 44,  3,  4,  3, 44,  9,  9,  3, 44,\n",
       "        3,  3,  6, 44,  3,  3,  3, 44,  8,  3,  3, 44,  3,  3,  3, 44,  3,\n",
       "        3,  7, 44,  3,  3,  3])"
      ]
     },
     "execution_count": 34,
     "metadata": {},
     "output_type": "execute_result"
    }
   ],
   "source": [
    "masyvas[iki_3] = 3\n",
    "masyvas"
   ]
  },
  {
   "cell_type": "code",
   "execution_count": 35,
   "metadata": {},
   "outputs": [
    {
     "data": {
      "text/plain": [
       "array([44,  9,  4, 44,  7, 44,  4, 44,  9,  9, 44,  6, 44, 44,  8, 44, 44,\n",
       "        7, 44])"
      ]
     },
     "execution_count": 35,
     "metadata": {},
     "output_type": "execute_result"
    }
   ],
   "source": [
    "np.array([x for x in masyvas if x > 3])"
   ]
  },
  {
   "cell_type": "code",
   "execution_count": 36,
   "metadata": {},
   "outputs": [
    {
     "name": "stdout",
     "output_type": "stream",
     "text": [
      "[53 40 41  4 64 47 14 61 89 37 56 36 25 26 66 22 42 45 22 92]\n"
     ]
    },
    {
     "data": {
      "text/plain": [
       "array([103,  40,  41,   4, 114,  47,  14, 111, 139,  37, 106,  36,  25,\n",
       "        26, 116,  22,  42,  45,  22, 142])"
      ]
     },
     "execution_count": 36,
     "metadata": {},
     "output_type": "execute_result"
    }
   ],
   "source": [
    "naujas = np.random.randint(0, 99, 20)\n",
    "print(naujas)\n",
    "naujas[naujas > 50] = [50+x for x in naujas if x >50]\n",
    "naujas"
   ]
  },
  {
   "cell_type": "code",
   "execution_count": 37,
   "metadata": {},
   "outputs": [
    {
     "name": "stdout",
     "output_type": "stream",
     "text": [
      "[89 56 52 84 41 23 38 40  8 32 70 75 11 76 55 41 80 15  8 45 15  5 15 70\n",
      " 25 13 45 37 28 55 86  1 56 47 67 47 66 85 86 75 58 62 32 80 63 38 64 60\n",
      "  9 87 72 55 86  7 72 66 55 89 87 70 37 57 25 24 16 38 31 86 59 81 69 75\n",
      " 58 61 56 42 33 50 84 13 31 44 75 44 10 78 26 40 30 35 47 77 39 36 49 72\n",
      " 63 72 16 30]\n",
      "[86  1 56 47 67 47 66 85 86 75 58 62 32 80 63 38 64 60  9 87 72 55 86  7\n",
      " 72 66 55 89 87 70]\n"
     ]
    }
   ],
   "source": [
    "masyvas_naujas = np.random.randint(0, 90, 100)\n",
    "kopija = masyvas_naujas.copy()[30:60]\n",
    "\n",
    "\n",
    "\n",
    "print(masyvas_naujas)\n",
    "print(kopija)\n"
   ]
  },
  {
   "cell_type": "code",
   "execution_count": 38,
   "metadata": {},
   "outputs": [
    {
     "name": "stdout",
     "output_type": "stream",
     "text": [
      "[56, 52, 41, 38, 40, 32, 55, 41, 45, 45, 37, 55, 56, 47, 47, 58, 32, 38, 55, 55, 37, 57, 38, 31, 59, 58, 56, 42, 33, 50, 31, 44, 44, 40, 35, 47, 39, 36, 49]\n"
     ]
    }
   ],
   "source": [
    "kombinuotas = [x for x in masyvas_naujas if x>30 and x<60]\n",
    "print(kombinuotas)"
   ]
  },
  {
   "cell_type": "code",
   "execution_count": 39,
   "metadata": {},
   "outputs": [
    {
     "data": {
      "text/plain": [
       "array([56, 52, 41, 38, 40, 32, 55, 41, 45, 45, 37, 55, 56, 47, 47, 58, 32,\n",
       "       38, 55, 55, 37, 57, 38, 31, 59, 58, 56, 42, 33, 50, 31, 44, 44, 40,\n",
       "       30, 35, 47, 39, 36, 49, 30])"
      ]
     },
     "execution_count": 39,
     "metadata": {},
     "output_type": "execute_result"
    }
   ],
   "source": [
    "tarpinis = masyvas_naujas[masyvas_naujas >= 30]\n",
    "tarpinis[tarpinis <60]"
   ]
  },
  {
   "cell_type": "code",
   "execution_count": 40,
   "metadata": {},
   "outputs": [
    {
     "data": {
      "text/plain": [
       "array([ 1,  2,  3,  4,  5,  6,  7,  8,  9, 10])"
      ]
     },
     "execution_count": 40,
     "metadata": {},
     "output_type": "execute_result"
    }
   ],
   "source": [
    "vektorius = np.arange(1, 11, 1)\n",
    "vektorius"
   ]
  },
  {
   "cell_type": "code",
   "execution_count": 41,
   "metadata": {},
   "outputs": [
    {
     "data": {
      "text/plain": [
       "array([   1,    8,   27,   64,  125,  216,  343,  512,  729, 1000],\n",
       "      dtype=int32)"
      ]
     },
     "execution_count": 41,
     "metadata": {},
     "output_type": "execute_result"
    }
   ],
   "source": [
    "vektorius ** 3"
   ]
  },
  {
   "cell_type": "code",
   "execution_count": 42,
   "metadata": {},
   "outputs": [
    {
     "data": {
      "text/plain": [
       "array([  1.,   4.,   9.,  16.,  25.,  36.,  49.,  64.,  81., 100.])"
      ]
     },
     "execution_count": 42,
     "metadata": {},
     "output_type": "execute_result"
    }
   ],
   "source": [
    "vektorius ** 3 / vektorius"
   ]
  },
  {
   "cell_type": "code",
   "execution_count": 43,
   "metadata": {},
   "outputs": [
    {
     "data": {
      "text/plain": [
       "array([10.1, 10.2, 10.3, 10.4, 10.5, 10.6, 10.7, 10.8, 10.9, 11. ])"
      ]
     },
     "execution_count": 43,
     "metadata": {},
     "output_type": "execute_result"
    }
   ],
   "source": [
    "(vektorius + 100) / 10"
   ]
  },
  {
   "cell_type": "code",
   "execution_count": 44,
   "metadata": {},
   "outputs": [
    {
     "data": {
      "text/plain": [
       "array([ 0.84147098,  0.90929743,  0.14112001, -0.7568025 , -0.95892427,\n",
       "       -0.2794155 ,  0.6569866 ,  0.98935825,  0.41211849, -0.54402111])"
      ]
     },
     "execution_count": 44,
     "metadata": {},
     "output_type": "execute_result"
    }
   ],
   "source": [
    "np.cos(vektorius)\n",
    "np.log(vektorius ** 2)\n",
    "np.tan(vektorius)\n",
    "np.sin(vektorius)"
   ]
  },
  {
   "cell_type": "code",
   "execution_count": 46,
   "metadata": {},
   "outputs": [
    {
     "data": {
      "text/plain": [
       "array([[9, 9, 9, 9, 9],\n",
       "       [9, 9, 9, 9, 9],\n",
       "       [9, 9, 9, 9, 9],\n",
       "       [9, 9, 9, 9, 9],\n",
       "       [9, 9, 9, 9, 9]])"
      ]
     },
     "execution_count": 46,
     "metadata": {},
     "output_type": "execute_result"
    }
   ],
   "source": [
    "bandomoji = np.full((5,5), 9)\n",
    "bandomoji"
   ]
  }
 ],
 "metadata": {
  "kernelspec": {
   "display_name": "Python 3.10.6 ('venv': venv)",
   "language": "python",
   "name": "python3"
  },
  "language_info": {
   "codemirror_mode": {
    "name": "ipython",
    "version": 3
   },
   "file_extension": ".py",
   "mimetype": "text/x-python",
   "name": "python",
   "nbconvert_exporter": "python",
   "pygments_lexer": "ipython3",
   "version": "3.10.6"
  },
  "orig_nbformat": 4,
  "vscode": {
   "interpreter": {
    "hash": "4a1510cba31268b21634179ae81759fbc3c3913c46f7c4983d733c42b88bcdb6"
   }
  }
 },
 "nbformat": 4,
 "nbformat_minor": 2
}
